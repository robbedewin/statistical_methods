{
 "cells": [
  {
   "cell_type": "markdown",
   "id": "4e6f3983-b921-4afc-a9dc-4e8ef82111b3",
   "metadata": {},
   "source": [
    " # Exercise 5.4.8 "
   ]
  },
  {
   "cell_type": "code",
   "execution_count": null,
   "id": "3d380e86-407a-4696-9051-0ed9033cfe15",
   "metadata": {
    "tags": []
   },
   "outputs": [],
   "source": [
    "import pandas as pd\n",
    "import numpy as np\n",
    "import statsmodels.formula.api as smf\n",
    "from sklearn.linear_model import LinearRegression\n",
    "from sklearn.model_selection import LeaveOneOut\n",
    "from sklearn.metrics import mean_squared_error\n",
    "from sklearn.model_selection import cross_validate\n",
    "import matplotlib.pyplot as plt\n",
    "from ISLP import load_data\n",
    "from ISLP.models import (ModelSpec as MS,summarize ,poly)\n",
    "import statsmodels.api as sm"
   ]
  },
  {
   "cell_type": "markdown",
   "id": "a438b32a-9d53-423b-a88c-2fa2b624b024",
   "metadata": {},
   "source": [
    "We will now perform cross-validation on a simulated data set.\n",
    "\n",
    "a. Generate a simulated data set with the given code. In this data set, what is n and what is p? Write out the model used to generate the data in equation form."
   ]
  },
  {
   "cell_type": "code",
   "execution_count": null,
   "id": "7e182029-4eb1-4d36-b8dd-6aa2676edc39",
   "metadata": {
    "tags": []
   },
   "outputs": [],
   "source": [
    "#8a\n",
    "rng = np.random.default_rng(1)\n",
    "x = rng.normal(size=100)\n",
    "y = x - 2 * x**2 + rng.normal(size=100)"
   ]
  },
  {
   "cell_type": "markdown",
   "id": "7d87dc2c-9a59-42f4-b57c-be47eb65cae9",
   "metadata": {},
   "source": [
    "$ y = 0 + x - 2x^2 + \\epsilon $"
   ]
  },
  {
   "cell_type": "markdown",
   "id": "454a915b-4094-41bf-98c3-a44a370e0f08",
   "metadata": {},
   "source": [
    "b. Create a scatterplot of X against Y."
   ]
  },
  {
   "cell_type": "code",
   "execution_count": null,
   "id": "f086b14a-8e0d-45ed-8c50-0087bef871c0",
   "metadata": {
    "tags": []
   },
   "outputs": [],
   "source": [
    "#8b\n",
    "plt.scatter(x, y)\n",
    "plt.title('X vs Y')\n",
    "plt.show()\n",
    "#clearly non-linear, quadratic function."
   ]
  },
  {
   "cell_type": "markdown",
   "id": "69954bb4-0758-4070-912f-231ec90cca5f",
   "metadata": {},
   "source": [
    "c. Compute the LOOCV errors that result from fitting the following four models using least squares. (d) Repeat (c) using another random seed, and report your results. Are your results the same as what you got in (c)? Why? (e) Which of the models in (c) had the smallest LOOCV error? Is this what you expected? Explain your answer. Comment on the statistical significance of the coefficient estimates that results from fitting each of the models in (c) using least squares."
   ]
  },
  {
   "cell_type": "code",
   "execution_count": null,
   "id": "7cdfb2d1-d8a8-4dab-be1a-9267dd7b7b38",
   "metadata": {
    "tags": []
   },
   "outputs": [],
   "source": [
    "#8c &d\n",
    "rng = np.random.default_rng(10)\n",
    "x = rng.normal(size=100)\n",
    "y = x - 2 * x**2 + rng.normal(size=100)\n",
    "df= pd.DataFrame({'Y':y,'X':x,'X2':x**2,'X3':x**3,'X4':x**4})\n",
    "M_CV1 = cross_validate(LinearRegression(), df[['X']], y, cv=len(x), scoring='neg_mean_squared_error')\n",
    "M_CV2 = cross_validate(LinearRegression(), df[['X','X2']], y, cv=len(x), scoring='neg_mean_squared_error')\n",
    "M_CV3 = cross_validate(LinearRegression(), df[['X','X2','X3']], y, cv=len(x), scoring='neg_mean_squared_error')\n",
    "M_CV4 = cross_validate(LinearRegression(), df[['X','X2','X3','X4']], y, cv=len(x), scoring='neg_mean_squared_error')\n",
    "y=[-np.mean(M_CV1['test_score']),-np.mean(M_CV2['test_score']),-np.mean(M_CV3['test_score']),-np.mean(M_CV4['test_score'])]\n",
    "print(y)\n",
    "plt.plot([\"X\",\"X2\",\"X3\",\"X4\"], y)\n",
    "plt.show()"
   ]
  },
  {
   "cell_type": "markdown",
   "id": "f34bf334-b5e7-48f0-a2a7-e988d5c4d068",
   "metadata": {},
   "source": [
    "As you change the seed the dataset changes slightly due to the calls to rnorm. The LOOCV has a deterministic definition of the folds so this has no influence on the changes. In the example case (on my system) the minimal score is for a quadratic model, which is correct, and the statistical Wald tests for the coefficients also point to evidence for only a quadratic model. Changing the seed can cause the minimal model going by minimal LOOCV MSE score to sometimes change, mostly because the differences between the differently sized models (2 and larger) are very small and within the variability of MSE estimates across incarnations of the data. The MSE estimates are Random Variables, so one should be aware of the variability in these estimates."
   ]
  },
  {
   "cell_type": "code",
   "execution_count": null,
   "id": "6db60ba8-69aa-4b03-b6e4-666b23c22016",
   "metadata": {
    "tags": []
   },
   "outputs": [],
   "source": [
    "model = smf.glm(\"Y ~ X + X2 +X3 + X4\", data=df).fit()\n",
    "print(model.summary())\n"
   ]
  },
  {
   "cell_type": "markdown",
   "id": "52c26f8a-0f70-43dd-a629-f00d0cee1a7e",
   "metadata": {},
   "source": [
    "For some version of the data X4 can also be significant. One should keep in mind that X2 and X4 are correlated variables and can both explain the same trend over the data range."
   ]
  }
 ],
 "metadata": {
  "kernelspec": {
   "display_name": "Python 3 (ipykernel)",
   "language": "python",
   "name": "python3"
  },
  "language_info": {
   "codemirror_mode": {
    "name": "ipython",
    "version": 3
   },
   "file_extension": ".py",
   "mimetype": "text/x-python",
   "name": "python",
   "nbconvert_exporter": "python",
   "pygments_lexer": "ipython3",
   "version": "3.11.8"
  }
 },
 "nbformat": 4,
 "nbformat_minor": 5
}
