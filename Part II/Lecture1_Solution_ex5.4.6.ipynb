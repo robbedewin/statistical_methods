{
 "cells": [
  {
   "cell_type": "markdown",
   "id": "f5cf4496-d96c-49bc-8277-da2b4cb71192",
   "metadata": {},
   "source": [
    "# Exercise 5.4.6"
   ]
  },
  {
   "cell_type": "code",
   "execution_count": null,
   "id": "60ef76de-99ab-4aab-885d-f0e44706362e",
   "metadata": {
    "tags": []
   },
   "outputs": [],
   "source": [
    "import pandas as pd\n",
    "import numpy as np\n",
    "import statsmodels.api as sm\n",
    "import statsmodels.formula.api as smf\n",
    "from ISLP import load_data\n",
    "\n",
    "Default = load_data('Default')\n"
   ]
  },
  {
   "cell_type": "markdown",
   "id": "8f5977a8-eeeb-415b-9fe8-8356befb1a74",
   "metadata": {},
   "source": [
    "We continue to consider the use of a logistic regression model to predict the probability of default using income and balance on the Default data set. In particular, we will now compute estimates for the standard errors of the income and balance logistic regression coefficients in two different ways: (1) using the bootstrap, and (2) using the standard formula for computing the standard errors in the glm() function. Do not forget to set a random seed before beginning your analysis."
   ]
  },
  {
   "cell_type": "markdown",
   "id": "ba123f48-6890-4934-912c-a976ddba1612",
   "metadata": {},
   "source": [
    "a. Determine the estimated standard errors for the coefficients associated with income and balance in a multiple logistic regression model that uses both predictors"
   ]
  },
  {
   "cell_type": "code",
   "execution_count": null,
   "id": "b46215d2-30fb-456f-b2f7-29fcf2ba85df",
   "metadata": {
    "tags": []
   },
   "outputs": [],
   "source": [
    "#6a\n",
    "# Set random seed\n",
    "np.random.seed(10)\n",
    "\n",
    "# Fit logistic regression model\n",
    "model = smf.glm(\"default ~ income + balance\", data=Default, family=sm.families.Binomial(link=sm.families.links.Logit()))\n",
    "result = model.fit()\n",
    "\n",
    "# Print summary\n",
    "print(result.summary())#some silly plotting issue with se of balance ?\n",
    "print(result.bse) #0.000005 and 0.0002"
   ]
  },
  {
   "cell_type": "markdown",
   "id": "c2c8ffda-716b-4d29-8157-ea2dd75722f2",
   "metadata": {},
   "source": [
    "b. Write a function, boot.fn(), that takes as input the Default dataset as well as an index of the observations. "
   ]
  },
  {
   "cell_type": "code",
   "execution_count": null,
   "id": "9de1155d-0046-41a9-a9a2-10ff77f54196",
   "metadata": {
    "tags": []
   },
   "outputs": [],
   "source": [
    "#6b\n",
    "def boot_fn(data, index):\n",
    "    sample = data.iloc[index]\n",
    "    model = smf.glm(\"default ~ income + balance\", data=sample, family=sm.families.Binomial(link=sm.families.links.Logit()))\n",
    "    result = model.fit()\n",
    "    return result.params[1:3]\n",
    "rng = np.random.default_rng(0)\n",
    "index=rng.choice(Default.shape[0], Default.shape[0],replace=True)\n",
    "print(boot_fn(Default,index))"
   ]
  },
  {
   "cell_type": "markdown",
   "id": "dd1a53c1-be9c-4495-8346-9c1861e244d8",
   "metadata": {},
   "source": [
    "c. Estimate the standard errors of the logistic regression coefficients with bootstrap. (see lab exercises for an example)\n",
    "d. Comment on the estimated standard errors obtained using the glm() function and using your bootstrap function."
   ]
  },
  {
   "cell_type": "code",
   "execution_count": null,
   "id": "617a285a-da90-47e7-951a-29996b0be582",
   "metadata": {
    "tags": []
   },
   "outputs": [],
   "source": [
    "#6c&d\n",
    "def boot_SE(func, D, n=None, B=1000, seed=0):\n",
    "    #Compute bootstrap standard errors for coefficients\n",
    "    rng = np.random.default_rng(seed)\n",
    "    first_, second_ = 0, 0\n",
    "    n = n or D.shape[0]\n",
    "    \n",
    "    for _ in range(B):\n",
    "        idx = rng.choice(D.index, n, replace=True)\n",
    "        value = func(D, idx)\n",
    "        first_ += value\n",
    "        second_ += value**2\n",
    "    \n",
    "    return np.sqrt(second_ / B - (first_ / B)**2)\n",
    "print(boot_SE(boot_fn,Default,n=Default.shape[0],B=1000))\n"
   ]
  },
  {
   "cell_type": "markdown",
   "id": "97f8d3cf-8ca5-46f4-a79c-b16d8bde833a",
   "metadata": {},
   "source": [
    "The estimated standard errors are nearly equal, and are comparable. The bootstrap approach does not rely on many assumptions and should give a good estimation of the real standard error."
   ]
  },
  {
   "cell_type": "code",
   "execution_count": null,
   "id": "e0c7b035-4dce-49a4-80ed-c7e6660f817d",
   "metadata": {},
   "outputs": [],
   "source": []
  }
 ],
 "metadata": {
  "kernelspec": {
   "display_name": "Python 3 (ipykernel)",
   "language": "python",
   "name": "python3"
  },
  "language_info": {
   "codemirror_mode": {
    "name": "ipython",
    "version": 3
   },
   "file_extension": ".py",
   "mimetype": "text/x-python",
   "name": "python",
   "nbconvert_exporter": "python",
   "pygments_lexer": "ipython3",
   "version": "3.11.8"
  }
 },
 "nbformat": 4,
 "nbformat_minor": 5
}
